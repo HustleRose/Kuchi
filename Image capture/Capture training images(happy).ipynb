{
 "cells": [
  {
   "cell_type": "markdown",
   "metadata": {},
   "source": [
    "This code will open your webcam, pressing space key will capture your images and put it in the happy folder for training. so smile :) "
   ]
  },
  {
   "cell_type": "code",
   "execution_count": null,
   "metadata": {},
   "outputs": [
    {
     "name": "stdout",
     "output_type": "stream",
     "text": [
      "Image 0saved\n",
      "Image 1saved\n"
     ]
    }
   ],
   "source": [
    "import cv2 \n",
    "\n",
    "cam = cv2.VideoCapture(0)\n",
    "\n",
    "count = 0\n",
    "\n",
    "while True:\n",
    "    ret, img = cam.read()\n",
    "\n",
    "    cv2.imshow(\"Training\", img)\n",
    "\n",
    "    if not ret:\n",
    "        break\n",
    "\n",
    "    k=cv2.waitKey(1)\n",
    "\n",
    "    if k%256==27:\n",
    "        #Esc key\n",
    "        print(\"Close\")\n",
    "        break\n",
    "    elif k%256==32:\n",
    "        #Space key\n",
    "\n",
    "        print(\"Image \"+str(count)+\"saved\")\n",
    "        file='../training/happy/img'+str(count)+'.jpg'\n",
    "        cv2.imwrite(file, img)\n",
    "        count +=1\n",
    "\n",
    "cam.release\n",
    "cv2.destroyAllWindows"
   ]
  }
 ],
 "metadata": {
  "kernelspec": {
   "display_name": "Python 3",
   "language": "python",
   "name": "python3"
  },
  "language_info": {
   "codemirror_mode": {
    "name": "ipython",
    "version": 3
   },
   "file_extension": ".py",
   "mimetype": "text/x-python",
   "name": "python",
   "nbconvert_exporter": "python",
   "pygments_lexer": "ipython3",
   "version": "3.7.6"
  }
 },
 "nbformat": 4,
 "nbformat_minor": 4
}
